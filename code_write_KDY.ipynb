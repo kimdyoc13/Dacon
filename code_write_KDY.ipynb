{
 "cells": [
  {
   "cell_type": "code",
   "execution_count": 5,
   "metadata": {},
   "outputs": [],
   "source": [
    "import pandas as pd\n",
    "import numpy as np\n",
    "import random\n",
    "import os\n",
    "import gc\n",
    "import seaborn as sns\n",
    "import matplotlib as mpl\n",
    "import matplotlib.pyplot as plt\n",
    "from sklearn.preprocessing import LabelEncoder"
   ]
  },
  {
   "cell_type": "code",
   "execution_count": 6,
   "metadata": {},
   "outputs": [],
   "source": [
    "train = pd.read_csv('C:/Users/jamos/OneDrive - UOU/2024-winter_semester/Dacon/Seoul_degree_preview/open/train.csv')\n",
    "sub = pd.read_csv('C:/Users/jamos/OneDrive - UOU/2024-winter_semester/Dacon/Seoul_degree_preview/open/sample_submission.csv')"
   ]
  },
  {
   "cell_type": "code",
   "execution_count": 7,
   "metadata": {},
   "outputs": [
    {
     "name": "stdout",
     "output_type": "stream",
     "text": [
      "<class 'pandas.core.frame.DataFrame'>\n",
      "RangeIndex: 23011 entries, 0 to 23010\n",
      "Data columns (total 11 columns):\n",
      " #   Column  Non-Null Count  Dtype  \n",
      "---  ------  --------------  -----  \n",
      " 0   일시      23011 non-null  object \n",
      " 1   최고기온    23008 non-null  float64\n",
      " 2   최저기온    23008 non-null  float64\n",
      " 3   일교차     23007 non-null  float64\n",
      " 4   강수량     9150 non-null   float64\n",
      " 5   평균습도    23011 non-null  float64\n",
      " 6   평균풍속    23007 non-null  float64\n",
      " 7   일조합     22893 non-null  float64\n",
      " 8   일사합     18149 non-null  float64\n",
      " 9   일조율     22645 non-null  float64\n",
      " 10  평균기온    23011 non-null  float64\n",
      "dtypes: float64(10), object(1)\n",
      "memory usage: 1.9+ MB\n"
     ]
    }
   ],
   "source": [
    "train.info()"
   ]
  },
  {
   "cell_type": "markdown",
   "metadata": {},
   "source": [
    "강수량, 일사합 에서 특징적으로 Null 값 확인"
   ]
  },
  {
   "cell_type": "markdown",
   "metadata": {},
   "source": [
    "# 최고 기온 SELF"
   ]
  },
  {
   "cell_type": "code",
   "execution_count": 9,
   "metadata": {},
   "outputs": [],
   "source": [
    "from prophet import Prophet\n",
    "\n",
    "# 날짜 데이터 변환\n",
    "train['일시'] = pd.to_datetime(train['일시'])\n",
    "train_df = train.set_index('일시')\n",
    "\n",
    "# 데이터의 시간 간격 지정\n",
    "train_df.index.freq = 'D'   \n",
    "\n",
    "# 일시 컬럼이 인덱스로 할당됩니다.\n",
    "train_df.head()\n",
    "\n",
    "\n",
    "# 각 칼럼의 평균값 계산\n",
    "mean_values = train_df.mean()\n",
    "\n",
    "# NaN 값을 각 컬럼의 평균값으로 대체\n",
    "train_df.fillna(mean_values, inplace = True)    \n",
    "train_df = train_df.reset_index()"
   ]
  },
  {
   "cell_type": "code",
   "execution_count": null,
   "metadata": {},
   "outputs": [],
   "source": [
    "# '평균기온'이 1월의 평균 기온보다 높거나 같은 모든 행을 찾습니다. 그런 다음 해당 행들의 '평균기온' 값에 1.5를 더합니다.\n",
    "df_january = train_df[train_df['일시']dt.month ==1]\n",
    "january_avg_temp = df_january['평균기온'].mean()\n",
    "\n",
    "## 평균 기온 이하인 날짜에 대해 평균기온에 +1을 추가\n",
    "train_df.loc[(train_df['일시'].dt.month == 1) & (train_df['평균기온'] >= january_avg_temp), '평균기온'] += 2.1\n",
    "\n",
    "# 2월의 평균 기온 계싼\n",
    "df_febuary = train_df[train_df['일시'].dt.month == 2]\n",
    "febuary_avg_temp = df.febuary['평균기온'].mean()\n",
    "\n",
    "## 평균 기온이 2월의 평균 기온 보다 높거나 같은 경우 평균 기온에 2.2 추가\n",
    "train_df.loc[(train_df['일시'].dt.month ==2) & (train_df['평균기온'] >=febuary_avg_temp), '평균기온'] += 2.7\n",
    "\n",
    "# 3월의 평균 기온 계산\n",
    "df_march = train_df[train_df['일시'].dt.month ==3]\n",
    "march_avg_temp = df_march['평균기온'].mean()\n",
    "\n",
    "## 평균 기온이 3월의 평균 기온보다 높거나 같은 걍우 평균기온에 2.1 추가\n",
    "train_df.loc[(train_df['일시'].dt.month == 3) & (train_df['평균기온'] >= march_avg_temp), '평균기온'] += 5.6\n",
    "\n",
    "# 8월의 평균 기온 계산\n",
    "df_august = train_df[train_df['일시'].dt.month == 8]    \n",
    "august_avg_temp = df_august['평균기온'].mean()\n",
    "\n",
    "## 평균 기온이 8월의 평균 기온보다 높거나 같은 경우 평균기온에 1 추가\n",
    "train_df.loc[(train_df['일시'].dt.month == 8) &(train_df['평균기온'] >= august_avg_temp), '평균기온'] +=2\n",
    "\n",
    "# 9월의 평균 기온 계산\n",
    "df_september = train_df[train_df['일시'].dt.month == 9] \n",
    "septembet_avg_temp = df_september"
   ]
  }
 ],
 "metadata": {
  "kernelspec": {
   "display_name": "base",
   "language": "python",
   "name": "python3"
  },
  "language_info": {
   "codemirror_mode": {
    "name": "ipython",
    "version": 3
   },
   "file_extension": ".py",
   "mimetype": "text/x-python",
   "name": "python",
   "nbconvert_exporter": "python",
   "pygments_lexer": "ipython3",
   "version": "3.11.3"
  }
 },
 "nbformat": 4,
 "nbformat_minor": 2
}
