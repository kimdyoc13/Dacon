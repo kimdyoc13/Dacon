{
 "cells": [
  {
   "cell_type": "code",
   "execution_count": 1,
   "metadata": {},
   "outputs": [],
   "source": [
    "import pandas as pd\n",
    "import numpy as np\n",
    "import random\n",
    "import os\n",
    "import gc\n",
    "import seaborn as sns\n",
    "import matplotlib as mpl\n",
    "import matplotlib.pyplot as plt\n",
    "from sklearn.preprocessing import LabelEncoder"
   ]
  },
  {
   "cell_type": "code",
   "execution_count": 2,
   "metadata": {},
   "outputs": [],
   "source": [
    "train = pd.read_csv('C:/Users/jamos/OneDrive - UOU/2024-winter_semester/Dacon/Seoul_degree_preview/open/train.csv')\n",
    "sub = pd.read_csv('C:/Users/jamos/OneDrive - UOU/2024-winter_semester/Dacon/Seoul_degree_preview/open/sample_submission.csv')"
   ]
  },
  {
   "cell_type": "code",
   "execution_count": 3,
   "metadata": {},
   "outputs": [
    {
     "name": "stdout",
     "output_type": "stream",
     "text": [
      "<class 'pandas.core.frame.DataFrame'>\n",
      "RangeIndex: 23011 entries, 0 to 23010\n",
      "Data columns (total 11 columns):\n",
      " #   Column  Non-Null Count  Dtype  \n",
      "---  ------  --------------  -----  \n",
      " 0   일시      23011 non-null  object \n",
      " 1   최고기온    23008 non-null  float64\n",
      " 2   최저기온    23008 non-null  float64\n",
      " 3   일교차     23007 non-null  float64\n",
      " 4   강수량     9150 non-null   float64\n",
      " 5   평균습도    23011 non-null  float64\n",
      " 6   평균풍속    23007 non-null  float64\n",
      " 7   일조합     22893 non-null  float64\n",
      " 8   일사합     18149 non-null  float64\n",
      " 9   일조율     22645 non-null  float64\n",
      " 10  평균기온    23011 non-null  float64\n",
      "dtypes: float64(10), object(1)\n",
      "memory usage: 1.9+ MB\n"
     ]
    }
   ],
   "source": [
    "train.info()"
   ]
  },
  {
   "cell_type": "markdown",
   "metadata": {},
   "source": [
    "강수량, 일사합 에서 특징적으로 Null 값 확인"
   ]
  },
  {
   "cell_type": "markdown",
   "metadata": {},
   "source": [
    "# 최고 기온 SELF"
   ]
  },
  {
   "cell_type": "code",
   "execution_count": 4,
   "metadata": {},
   "outputs": [],
   "source": [
    "from prophet import Prophet\n",
    "\n",
    "# 날짜 데이터 변환\n",
    "train['일시'] = pd.to_datetime(train['일시'])\n",
    "train_df = train.set_index('일시')\n",
    "\n",
    "# 데이터의 시간 간격 지정\n",
    "train_df.index.freq = 'D'   \n",
    "\n",
    "# 일시 컬럼이 인덱스로 할당됩니다.\n",
    "train_df.head()\n",
    "\n",
    "\n",
    "# 각 칼럼의 평균값 계산\n",
    "mean_values = train_df.mean()\n",
    "\n",
    "# NaN 값을 각 컬럼의 평균값으로 대체\n",
    "train_df.fillna(mean_values, inplace = True)    \n",
    "train_df = train_df.reset_index()"
   ]
  },
  {
   "cell_type": "markdown",
   "metadata": {},
   "source": [
    "평균기온 데이터 들의 값 더하거나 뻄"
   ]
  },
  {
   "cell_type": "code",
   "execution_count": 7,
   "metadata": {},
   "outputs": [],
   "source": [
    "# '평균기온'이 1월의 평균 기온보다 높거나 같은 모든 행을 찾습니다. 그런 다음 해당 행들의 '평균기온' 값에 1.5를 더합니다.\n",
    "df_january = train_df[train_df['일시'].dt.month ==1]\n",
    "january_avg_temp = df_january['평균기온'].mean()\n",
    "\n",
    "## 평균 기온 이하인 날짜에 대해 평균기온에 +1을 추가\n",
    "train_df.loc[(train_df['일시'].dt.month == 1) & (train_df['평균기온'] >= january_avg_temp), '평균기온'] += 2.1\n",
    "\n",
    "# 2월의 평균 기온 계싼\n",
    "df_febuary = train_df[train_df['일시'].dt.month == 2]\n",
    "febuary_avg_temp = df_febuary['평균기온'].mean()\n",
    "\n",
    "## 평균 기온이 2월의 평균 기온 보다 높거나 같은 경우 평균 기온에 2.2 추가\n",
    "train_df.loc[(train_df['일시'].dt.month ==2) & (train_df['평균기온'] >=febuary_avg_temp), '평균기온'] += 2.7\n",
    "\n",
    "# 3월의 평균 기온 계산\n",
    "df_march = train_df[train_df['일시'].dt.month ==3]\n",
    "march_avg_temp = df_march['평균기온'].mean()\n",
    "\n",
    "## 평균 기온이 3월의 평균 기온보다 높거나 같은 걍우 평균기온에 2.1 추가\n",
    "train_df.loc[(train_df['일시'].dt.month == 3) & (train_df['평균기온'] >= march_avg_temp), '평균기온'] += 5.6\n",
    "\n",
    "# 8월의 평균 기온 계산\n",
    "df_august = train_df[train_df['일시'].dt.month == 8]    \n",
    "august_avg_temp = df_august['평균기온'].mean()\n",
    "\n",
    "## 평균 기온이 8월의 평균 기온보다 높거나 같은 경우 평균기온에 1 추가\n",
    "train_df.loc[(train_df['일시'].dt.month == 8) &(train_df['평균기온'] >= august_avg_temp), '평균기온'] +=2\n",
    "\n",
    "# 9월의 평균 기온 계산\n",
    "df_september = train_df[train_df['일시'].dt.month == 9] \n",
    "september_avg_temp = df_september['평균기온'].mean()\n",
    "\n",
    "# 평균 기온이 9월의 평균 기온보다 높거나 같은 경우 평균기온에 1 추가\n",
    "train_df.loc[(train_df['일시'].dt.month == 9) & (train_df['평균기온'] >= september_avg_temp), '평균기온'] += 2\n",
    "\n",
    "# 10월의  평균 기온 계산\n",
    "df_october = train_df[train_df['일시'].dt.month == 10]\n",
    "october_avg_temp = df_october['평균기온'].mean()\n",
    "\n",
    "# 평균 기온이 10월의 평균 기온보다 높거나 같은 경우 평균기온에 1 추가\n",
    "train_df.loc[(train_df['일시'].dt.month == 10) & (train_df['평균기온'] >= october_avg_temp), '평균기온'] -= 1.5\n",
    "\n",
    "# 11월의 평균 기오 ㄴ계산\n",
    "df_november = train_df[train_df['일시'].dt.month == 11]\n",
    "november_avg_temp = df_november['평균기온'].mean()\n",
    "\n",
    "# 평균 기온이 11월의 평균 기온 바다 높거나 갗은 경우 평균 기온ㅇ에 1 추가\n",
    "train_df.loc[(train_df['일시'].dt.month == 11) & (train_df['평균기온'] >= november_avg_temp), '평균기온'] -=3.1\n",
    "\n",
    "# 12월의 평균 기온 계산\n",
    "df_december = train_df[train_df['일시'].dt.month == 12]\n",
    "december_avg_temp = df_december['평균기온'].mean()\n",
    "\n",
    "# 평균 기온이 12월의 평균 기온보다 높거나 같은 경우 평균 기온에 1 추가\n",
    "train_df.loc[(train_df['일시'].dt.month == 12) & (train_df['평균기온'] >= december_avg_temp), '평균기온'] -= 4.5\n",
    "\n",
    "########################################333\n",
    "\n",
    "# 5월의 평균 기온 계산\n",
    "df_may = train_df[train_df['일시'].dt.month == 5]\n",
    "may_avg_temp = df_may['평균기온'].mean()\n",
    "\n",
    "# 평균 기온이 5월의 평균 기온보다 높거나 같은 경우 평균 기온에 1 추가\n",
    "train_df.loc[(train_df['일시'].dt.month == 5) & (train_df['평균기온'] >= may_avg_temp), '평균기온'] += 1\n"
   ]
  },
  {
   "cell_type": "code",
   "execution_count": 8,
   "metadata": {},
   "outputs": [],
   "source": [
    "# 날짜 데이터 변환\n",
    "sub['일시'] = pd.to_datetime(sub['일시'])\n",
    "sub = sub.set_index('일시')\n",
    "\n",
    "# 데이터의 시간 간격 지정\n",
    "sub.index.freq = 'D'\n",
    "\n",
    "# 일시 컬럼이 인덱스로 할당됩니다.\n",
    "sub.head()\n",
    "\n",
    "sub = sub.reset_index()\n"
   ]
  },
  {
   "cell_type": "code",
   "execution_count": 9,
   "metadata": {},
   "outputs": [],
   "source": [
    "# prophet 에서 데이터를 인식하도록 일시는 ds 로 , target값인 평균기온은 y 로 지정해줍니다.\n",
    "train_df = train_df.rename(columns = {'일시' : 'ds', '최고기온': 'y'})"
   ]
  },
  {
   "cell_type": "code",
   "execution_count": 10,
   "metadata": {},
   "outputs": [],
   "source": [
    "train_df['일'] = train_df['ds'].dt.day\n",
    "sub['일'] = sub['일시'].dt.day"
   ]
  },
  {
   "cell_type": "code",
   "execution_count": 11,
   "metadata": {},
   "outputs": [],
   "source": [
    "train_df['달'] = train_df['ds'].dt.month\n",
    "sub['달'] = sub['일시'].dt.month"
   ]
  },
  {
   "cell_type": "code",
   "execution_count": 12,
   "metadata": {},
   "outputs": [
    {
     "name": "stderr",
     "output_type": "stream",
     "text": [
      "19:59:42 - cmdstanpy - INFO - Chain [1] start processing\n",
      "19:59:54 - cmdstanpy - INFO - Chain [1] done processing\n"
     ]
    },
    {
     "data": {
      "text/plain": [
       "<prophet.forecaster.Prophet at 0x19b95f47990>"
      ]
     },
     "execution_count": 12,
     "metadata": {},
     "output_type": "execute_result"
    }
   ],
   "source": [
    "# initialize the Prophet model with logistic growth\n",
    "m = Prophet(seasonality_prior_scale = 0.1, n_changepoints = 40)\n",
    "m.add_seasonality(name = 'semiannual', period = 180, fourier_order = 10)\n",
    "m.add_regressor('일')\n",
    "m.add_regressor('달')\n",
    "m.fit(train_df)"
   ]
  },
  {
   "cell_type": "code",
   "execution_count": 13,
   "metadata": {},
   "outputs": [],
   "source": [
    "future_data = m.make_future_dataframe(periods = 358, freq = 'd')"
   ]
  },
  {
   "cell_type": "code",
   "execution_count": 14,
   "metadata": {},
   "outputs": [],
   "source": [
    "import pandas as pd\n",
    "\n",
    "# '최저기온' 데이터를 train_df 와 sub 에서 추출\n",
    "train_temps = train_df['일']\n",
    "sub_temps = sub['일']\n",
    "\n",
    "# 데이터 결합\n",
    "combined_temps = pd.concat([train_temps, sub_temps])\n",
    "\n",
    "# future_data 에 '최저 기온' 추가\n",
    "future_data['일']    = combined_temps.values\n",
    "\n",
    "###########################################33\n",
    "import pandas as pd\n",
    "\n",
    "# '최저 기온 ' 데이터를 train_df 와 sub 에서 추출\n",
    "train_temps = train_df['달']\n",
    "sub_temps = sub['달']\n",
    "\n",
    "# 데이터 결합\n",
    "combined_temps = pd.concat([train_temps, sub_temps])\n",
    "\n",
    "# future_data 에 '최저기온' 추가\n",
    "future_data['달'] = combined_temps.values\n",
    "###################################################33"
   ]
  },
  {
   "cell_type": "code",
   "execution_count": 15,
   "metadata": {},
   "outputs": [
    {
     "data": {
      "text/html": [
       "<div>\n",
       "<style scoped>\n",
       "    .dataframe tbody tr th:only-of-type {\n",
       "        vertical-align: middle;\n",
       "    }\n",
       "\n",
       "    .dataframe tbody tr th {\n",
       "        vertical-align: top;\n",
       "    }\n",
       "\n",
       "    .dataframe thead th {\n",
       "        text-align: right;\n",
       "    }\n",
       "</style>\n",
       "<table border=\"1\" class=\"dataframe\">\n",
       "  <thead>\n",
       "    <tr style=\"text-align: right;\">\n",
       "      <th></th>\n",
       "      <th>ds</th>\n",
       "      <th>yhat</th>\n",
       "    </tr>\n",
       "  </thead>\n",
       "  <tbody>\n",
       "    <tr>\n",
       "      <th>23364</th>\n",
       "      <td>2023-12-20</td>\n",
       "      <td>4.710338</td>\n",
       "    </tr>\n",
       "    <tr>\n",
       "      <th>23365</th>\n",
       "      <td>2023-12-21</td>\n",
       "      <td>4.644573</td>\n",
       "    </tr>\n",
       "    <tr>\n",
       "      <th>23366</th>\n",
       "      <td>2023-12-22</td>\n",
       "      <td>4.534165</td>\n",
       "    </tr>\n",
       "    <tr>\n",
       "      <th>23367</th>\n",
       "      <td>2023-12-23</td>\n",
       "      <td>4.508127</td>\n",
       "    </tr>\n",
       "    <tr>\n",
       "      <th>23368</th>\n",
       "      <td>2023-12-24</td>\n",
       "      <td>4.388631</td>\n",
       "    </tr>\n",
       "  </tbody>\n",
       "</table>\n",
       "</div>"
      ],
      "text/plain": [
       "              ds      yhat\n",
       "23364 2023-12-20  4.710338\n",
       "23365 2023-12-21  4.644573\n",
       "23366 2023-12-22  4.534165\n",
       "23367 2023-12-23  4.508127\n",
       "23368 2023-12-24  4.388631"
      ]
     },
     "execution_count": 15,
     "metadata": {},
     "output_type": "execute_result"
    }
   ],
   "source": [
    "forecast_data = m.predict(future_data)  \n",
    "forecast_data[['ds', 'yhat']].tail(5)"
   ]
  },
  {
   "cell_type": "code",
   "execution_count": 16,
   "metadata": {},
   "outputs": [],
   "source": [
    "sub['최고기온'] = forecast_data.yhat[-358:].values"
   ]
  },
  {
   "cell_type": "code",
   "execution_count": 17,
   "metadata": {},
   "outputs": [
    {
     "data": {
      "text/html": [
       "<div>\n",
       "<style scoped>\n",
       "    .dataframe tbody tr th:only-of-type {\n",
       "        vertical-align: middle;\n",
       "    }\n",
       "\n",
       "    .dataframe tbody tr th {\n",
       "        vertical-align: top;\n",
       "    }\n",
       "\n",
       "    .dataframe thead th {\n",
       "        text-align: right;\n",
       "    }\n",
       "</style>\n",
       "<table border=\"1\" class=\"dataframe\">\n",
       "  <thead>\n",
       "    <tr style=\"text-align: right;\">\n",
       "      <th></th>\n",
       "      <th>일시</th>\n",
       "      <th>평균기온</th>\n",
       "      <th>일</th>\n",
       "      <th>달</th>\n",
       "      <th>최고기온</th>\n",
       "    </tr>\n",
       "  </thead>\n",
       "  <tbody>\n",
       "    <tr>\n",
       "      <th>0</th>\n",
       "      <td>2023-01-01</td>\n",
       "      <td>0</td>\n",
       "      <td>1</td>\n",
       "      <td>1</td>\n",
       "      <td>3.903483</td>\n",
       "    </tr>\n",
       "    <tr>\n",
       "      <th>1</th>\n",
       "      <td>2023-01-02</td>\n",
       "      <td>0</td>\n",
       "      <td>2</td>\n",
       "      <td>1</td>\n",
       "      <td>3.772475</td>\n",
       "    </tr>\n",
       "    <tr>\n",
       "      <th>2</th>\n",
       "      <td>2023-01-03</td>\n",
       "      <td>0</td>\n",
       "      <td>3</td>\n",
       "      <td>1</td>\n",
       "      <td>3.685933</td>\n",
       "    </tr>\n",
       "    <tr>\n",
       "      <th>3</th>\n",
       "      <td>2023-01-04</td>\n",
       "      <td>0</td>\n",
       "      <td>4</td>\n",
       "      <td>1</td>\n",
       "      <td>3.575172</td>\n",
       "    </tr>\n",
       "    <tr>\n",
       "      <th>4</th>\n",
       "      <td>2023-01-05</td>\n",
       "      <td>0</td>\n",
       "      <td>5</td>\n",
       "      <td>1</td>\n",
       "      <td>3.524494</td>\n",
       "    </tr>\n",
       "    <tr>\n",
       "      <th>...</th>\n",
       "      <td>...</td>\n",
       "      <td>...</td>\n",
       "      <td>...</td>\n",
       "      <td>...</td>\n",
       "      <td>...</td>\n",
       "    </tr>\n",
       "    <tr>\n",
       "      <th>353</th>\n",
       "      <td>2023-12-20</td>\n",
       "      <td>0</td>\n",
       "      <td>20</td>\n",
       "      <td>12</td>\n",
       "      <td>4.710338</td>\n",
       "    </tr>\n",
       "    <tr>\n",
       "      <th>354</th>\n",
       "      <td>2023-12-21</td>\n",
       "      <td>0</td>\n",
       "      <td>21</td>\n",
       "      <td>12</td>\n",
       "      <td>4.644573</td>\n",
       "    </tr>\n",
       "    <tr>\n",
       "      <th>355</th>\n",
       "      <td>2023-12-22</td>\n",
       "      <td>0</td>\n",
       "      <td>22</td>\n",
       "      <td>12</td>\n",
       "      <td>4.534165</td>\n",
       "    </tr>\n",
       "    <tr>\n",
       "      <th>356</th>\n",
       "      <td>2023-12-23</td>\n",
       "      <td>0</td>\n",
       "      <td>23</td>\n",
       "      <td>12</td>\n",
       "      <td>4.508127</td>\n",
       "    </tr>\n",
       "    <tr>\n",
       "      <th>357</th>\n",
       "      <td>2023-12-24</td>\n",
       "      <td>0</td>\n",
       "      <td>24</td>\n",
       "      <td>12</td>\n",
       "      <td>4.388631</td>\n",
       "    </tr>\n",
       "  </tbody>\n",
       "</table>\n",
       "<p>358 rows × 5 columns</p>\n",
       "</div>"
      ],
      "text/plain": [
       "            일시  평균기온   일   달      최고기온\n",
       "0   2023-01-01     0   1   1  3.903483\n",
       "1   2023-01-02     0   2   1  3.772475\n",
       "2   2023-01-03     0   3   1  3.685933\n",
       "3   2023-01-04     0   4   1  3.575172\n",
       "4   2023-01-05     0   5   1  3.524494\n",
       "..         ...   ...  ..  ..       ...\n",
       "353 2023-12-20     0  20  12  4.710338\n",
       "354 2023-12-21     0  21  12  4.644573\n",
       "355 2023-12-22     0  22  12  4.534165\n",
       "356 2023-12-23     0  23  12  4.508127\n",
       "357 2023-12-24     0  24  12  4.388631\n",
       "\n",
       "[358 rows x 5 columns]"
      ]
     },
     "execution_count": 17,
     "metadata": {},
     "output_type": "execute_result"
    }
   ],
   "source": [
    "sub"
   ]
  },
  {
   "cell_type": "code",
   "execution_count": 18,
   "metadata": {},
   "outputs": [],
   "source": [
    "sub = sub.drop(columns = ['일'])"
   ]
  },
  {
   "cell_type": "code",
   "execution_count": 19,
   "metadata": {},
   "outputs": [],
   "source": [
    "sub = sub.drop(columns = ['달'])"
   ]
  },
  {
   "cell_type": "code",
   "execution_count": 20,
   "metadata": {},
   "outputs": [
    {
     "data": {
      "text/html": [
       "<div>\n",
       "<style scoped>\n",
       "    .dataframe tbody tr th:only-of-type {\n",
       "        vertical-align: middle;\n",
       "    }\n",
       "\n",
       "    .dataframe tbody tr th {\n",
       "        vertical-align: top;\n",
       "    }\n",
       "\n",
       "    .dataframe thead th {\n",
       "        text-align: right;\n",
       "    }\n",
       "</style>\n",
       "<table border=\"1\" class=\"dataframe\">\n",
       "  <thead>\n",
       "    <tr style=\"text-align: right;\">\n",
       "      <th></th>\n",
       "      <th>일시</th>\n",
       "      <th>평균기온</th>\n",
       "      <th>최고기온</th>\n",
       "    </tr>\n",
       "  </thead>\n",
       "  <tbody>\n",
       "    <tr>\n",
       "      <th>0</th>\n",
       "      <td>2023-01-01</td>\n",
       "      <td>0</td>\n",
       "      <td>3.903483</td>\n",
       "    </tr>\n",
       "    <tr>\n",
       "      <th>1</th>\n",
       "      <td>2023-01-02</td>\n",
       "      <td>0</td>\n",
       "      <td>3.772475</td>\n",
       "    </tr>\n",
       "    <tr>\n",
       "      <th>2</th>\n",
       "      <td>2023-01-03</td>\n",
       "      <td>0</td>\n",
       "      <td>3.685933</td>\n",
       "    </tr>\n",
       "    <tr>\n",
       "      <th>3</th>\n",
       "      <td>2023-01-04</td>\n",
       "      <td>0</td>\n",
       "      <td>3.575172</td>\n",
       "    </tr>\n",
       "    <tr>\n",
       "      <th>4</th>\n",
       "      <td>2023-01-05</td>\n",
       "      <td>0</td>\n",
       "      <td>3.524494</td>\n",
       "    </tr>\n",
       "    <tr>\n",
       "      <th>...</th>\n",
       "      <td>...</td>\n",
       "      <td>...</td>\n",
       "      <td>...</td>\n",
       "    </tr>\n",
       "    <tr>\n",
       "      <th>353</th>\n",
       "      <td>2023-12-20</td>\n",
       "      <td>0</td>\n",
       "      <td>4.710338</td>\n",
       "    </tr>\n",
       "    <tr>\n",
       "      <th>354</th>\n",
       "      <td>2023-12-21</td>\n",
       "      <td>0</td>\n",
       "      <td>4.644573</td>\n",
       "    </tr>\n",
       "    <tr>\n",
       "      <th>355</th>\n",
       "      <td>2023-12-22</td>\n",
       "      <td>0</td>\n",
       "      <td>4.534165</td>\n",
       "    </tr>\n",
       "    <tr>\n",
       "      <th>356</th>\n",
       "      <td>2023-12-23</td>\n",
       "      <td>0</td>\n",
       "      <td>4.508127</td>\n",
       "    </tr>\n",
       "    <tr>\n",
       "      <th>357</th>\n",
       "      <td>2023-12-24</td>\n",
       "      <td>0</td>\n",
       "      <td>4.388631</td>\n",
       "    </tr>\n",
       "  </tbody>\n",
       "</table>\n",
       "<p>358 rows × 3 columns</p>\n",
       "</div>"
      ],
      "text/plain": [
       "            일시  평균기온      최고기온\n",
       "0   2023-01-01     0  3.903483\n",
       "1   2023-01-02     0  3.772475\n",
       "2   2023-01-03     0  3.685933\n",
       "3   2023-01-04     0  3.575172\n",
       "4   2023-01-05     0  3.524494\n",
       "..         ...   ...       ...\n",
       "353 2023-12-20     0  4.710338\n",
       "354 2023-12-21     0  4.644573\n",
       "355 2023-12-22     0  4.534165\n",
       "356 2023-12-23     0  4.508127\n",
       "357 2023-12-24     0  4.388631\n",
       "\n",
       "[358 rows x 3 columns]"
      ]
     },
     "execution_count": 20,
     "metadata": {},
     "output_type": "execute_result"
    }
   ],
   "source": [
    "sub"
   ]
  },
  {
   "cell_type": "code",
   "execution_count": null,
   "metadata": {},
   "outputs": [],
   "source": []
  }
 ],
 "metadata": {
  "kernelspec": {
   "display_name": "base",
   "language": "python",
   "name": "python3"
  },
  "language_info": {
   "codemirror_mode": {
    "name": "ipython",
    "version": 3
   },
   "file_extension": ".py",
   "mimetype": "text/x-python",
   "name": "python",
   "nbconvert_exporter": "python",
   "pygments_lexer": "ipython3",
   "version": "3.11.3"
  }
 },
 "nbformat": 4,
 "nbformat_minor": 2
}
